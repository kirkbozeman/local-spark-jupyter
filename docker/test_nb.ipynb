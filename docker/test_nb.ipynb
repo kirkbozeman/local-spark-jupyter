{
 "cells": [
  {
   "cell_type": "code",
   "execution_count": 1,
   "id": "b7ac2a52-5d66-4b00-bf95-c5536e48b153",
   "metadata": {},
   "outputs": [],
   "source": [
    "import findspark\n",
    "findspark.init()"
   ]
  },
  {
   "cell_type": "code",
   "execution_count": null,
   "outputs": [],
   "source": [
    "from pyspark.sql import SparkSession"
   ],
   "metadata": {
    "collapsed": false,
    "pycharm": {
     "name": "#%%\n"
    }
   }
  },
  {
   "cell_type": "code",
   "execution_count": 16,
   "id": "7b200375-3877-4686-8b36-3c5570e8f3c9",
   "metadata": {},
   "outputs": [],
   "source": [
    "spark = SparkSession.builder \\\n",
    "    .master(\"local\") \\\n",
    "    .appName(\"Test App\") \\\n",
    "    .getOrCreate()"
   ]
  },
  {
   "cell_type": "code",
   "execution_count": 17,
   "id": "245c55e3-d977-4fe4-bfb3-5fdccb64c1c4",
   "metadata": {},
   "outputs": [
    {
     "name": "stdout",
     "output_type": "stream",
     "text": [
      "+-------------------+-------------+-----------------+---------------------+----------+--------------------+---------------------------+------------------------+---------+----------+-----+-----+----------+--------------------------+-------------+------------+---------------------+-------------+------------+--------------------+------------------------+------------------------+--------------+-------------+-------+--------+--------+----+--------------------+-------------+-----------+\n",
      "|MID                |Office Number|Sub Office Number|Sub Sub Office Number|Rep Number|Application Date    |DBA                        |Address One             |Address 2|City      |State|Zip  |Phone     |Email                     |Owner 1 First|Owner 1 Last|Owner 1 DOB          |Owner 2 First|Owner 2 Last|Owner 2 DOB         |Mail Name               |Mail Address 1          |Mail Address 2|Mail City    |Mail St|Mail Zip|Status  |SIC |Last Batch Date     |ClosureReason|ClosureDate|\n",
      "+-------------------+-------------+-----------------+---------------------+----------+--------------------+---------------------------+------------------------+---------+----------+-----+-----+----------+--------------------------+-------------+------------+---------------------+-------------+------------+--------------------+------------------------+------------------------+--------------+-------------+-------+--------+--------+----+--------------------+-------------+-----------+\n",
      "|=\"3899000003945530\"|9927         |0                |0                    |19194     |5/3/2019 9:55:00 AM |WYROCKI LAW GROUP TR       |12 WHIPPLE ST           |null     |DANVERS   |MA   |01923|6178727152|c.urbano@wyrockilaw.com   |CHRISTIAN    |URBANO      |7/7/1969 12:00:00 AM |null         |null        |1/1/1900 12:00:00 AM|WYROCKI LAW GROUP       |12 WHIPPLE ST           |null          |DANVERS      |MA     |01923   |Approved|8111|6/26/2020 6:23:55 AM|null         |null       |\n",
      "|=\"3899000003945597\"|9927         |0                |0                    |20903     |5/3/2019 10:38:00 AM|LEONARDO B PEREZ III LLC OP|10300 49TH ST N STE 101 |null     |CLEARWATER|FL   |33762|7273060626|leo@perezlegalservices.com|LEONARDO     |PEREZ       |4/22/1984 12:00:00 AM|null         |null        |1/1/1900 12:00:00 AM|LEONARDO B PEREZ III LLC|PO BOX 2274             |null          |PINELLAS PARK|FL     |33780   |Approved|8111|8/15/2020 6:23:10 AM|null         |null       |\n",
      "|=\"3899000003945605\"|9927         |0                |0                    |20903     |5/3/2019 10:42:00 AM|LEONARDO B PEREZ III LLC TR|10300 49TH ST N STE 101 |null     |CLEARWATER|FL   |33762|7273060626|leo@perezlegalservices.com|LEONARDO     |PEREZ       |4/22/1984 12:00:00 AM|null         |null        |1/1/1900 12:00:00 AM|LEONARDO B PEREZ III LLC|PO BOX 2274             |null          |PINELLAS PARK|FL     |33780   |Approved|8111|6/21/2020 6:21:50 AM|null         |null       |\n",
      "|=\"3899000003945944\"|9927         |0                |0                    |22324     |5/3/2019 2:40:00 PM |ABILENE HIGH SCHOOL BAND   |2800 N 6TH ST           |null     |ABILENE   |TX   |79603|3252808205|eagletreasurer@gmail.com  |LORI         |FORKNER     |1/23/1945 12:00:00 AM|null         |null        |1/1/1900 12:00:00 AM|ABILENE HIGH SCHOOL BAND|2800 N 6TH ST           |null          |ABILENE      |TX     |79603   |Approved|8641|8/9/2020 6:21:44 AM |null         |null       |\n",
      "|=\"3899000003945563\"|9927         |0                |0                    |18598     |5/3/2019 10:26:00 AM|CAMPBELL LONG LLC OP       |105 W MADISON ST STE 600|null     |CHICAGO   |IL   |60602|8665669494|joanna@clcounsel.com      |JOANNA       |LONG        |1/20/1986 12:00:00 AM|null         |null        |1/1/1900 12:00:00 AM|CAMPBELL LONG LLC       |105 W MADISON ST STE 600|null          |CHICAGO      |IL     |60602   |Approved|8111|8/20/2020 6:22:57 AM|null         |null       |\n",
      "+-------------------+-------------+-----------------+---------------------+----------+--------------------+---------------------------+------------------------+---------+----------+-----+-----+----------+--------------------------+-------------+------------+---------------------+-------------+------------+--------------------+------------------------+------------------------+--------------+-------------+-------+--------+--------+----+--------------------+-------------+-----------+\n",
      "only showing top 5 rows\n",
      "\n"
     ]
    }
   ],
   "source": [
    "spark.read.csv('/tmp/test.csv.gz', header=True).show(5, False)"
   ]
  }
 ],
 "metadata": {
  "kernelspec": {
   "display_name": "Python 3",
   "language": "python",
   "name": "python3"
  },
  "language_info": {
   "codemirror_mode": {
    "name": "ipython",
    "version": 3
   },
   "file_extension": ".py",
   "mimetype": "text/x-python",
   "name": "python",
   "nbconvert_exporter": "python",
   "pygments_lexer": "ipython3",
   "version": "3.6.9"
  }
 },
 "nbformat": 4,
 "nbformat_minor": 5
}