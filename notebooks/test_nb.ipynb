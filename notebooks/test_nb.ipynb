{
 "cells": [
  {
   "cell_type": "markdown",
   "id": "017cc0c7-6961-4cda-8258-a6d117066202",
   "metadata": {},
   "source": [
    "Spark UI: http://localhost:4040/ (only available when Session is created)  \n",
    "Spark History Server: http://localhost:18080/  \n",
    "Livy: http://localhost:8998/ui  \n",
    "Hadoop Resource Manager: http://localhost:8088/  \n",
    "Hadoop UI: http://localhost:9870/  "
   ]
  },
  {
   "cell_type": "markdown",
   "id": "b6c7e3e3-d669-4947-81eb-d77a20d61778",
   "metadata": {
    "jupyter": {
     "source_hidden": true
    },
    "tags": []
   },
   "source": [
    "### load w/o conf file (no longer needed)"
   ]
  },
  {
   "cell_type": "code",
   "execution_count": null,
   "id": "7b200375-3877-4686-8b36-3c5570e8f3c9",
   "metadata": {
    "jupyter": {
     "source_hidden": true
    },
    "tags": []
   },
   "outputs": [],
   "source": [
    "from pyspark.sql import SparkSession\n",
    "from delta import *\n",
    "\n",
    "# spark session\n",
    "builder = SparkSession.builder \\\n",
    "    .master(\"local\") \\\n",
    "    .appName(\"Test App\") \\\n",
    "    .config(\"spark.sql.extensions\", \"io.delta.sql.DeltaSparkSessionExtension\") \\\n",
    "    .config(\"spark.sql.catalog.spark_catalog\", \"org.apache.spark.sql.delta.catalog.DeltaCatalog\")\n",
    "\n",
    "spark = configure_spark_with_delta_pip(builder).getOrCreate()\n",
    "\n",
    "# spark context + hadoop config\n",
    "sc = spark.sparkContext\n",
    "hadoop_conf = sc._jsc.hadoopConfiguration()\n",
    "hadoop_conf.set(\"fs.s3.impl\", \"org.apache.hadoop.fs.s3a.S3AFileSystem\")\n",
    "hadoop_conf.set(\"fs.s3a.multiobjectdelete.enable\", \"false\")\n",
    "hadoop_conf.set(\"fs.s3a.aws.credentials.provider\", \"com.amazonaws.auth.profile.ProfileCredentialsProvider\")\n",
    "\n",
    "sc"
   ]
  },
  {
   "cell_type": "markdown",
   "id": "31c5f097-267a-4005-bbe4-a3a7831b5085",
   "metadata": {},
   "source": [
    "### load w/ conf file"
   ]
  },
  {
   "cell_type": "code",
   "execution_count": null,
   "id": "1ab660cb",
   "metadata": {
    "collapsed": false,
    "jupyter": {
     "outputs_hidden": false
    },
    "pycharm": {
     "name": "#%%\n"
    }
   },
   "outputs": [],
   "source": [
    "from pyspark.sql import SparkSession\n",
    "from delta import *\n",
    "\n",
    "# spark session\n",
    "spark = SparkSession.builder \\\n",
    "    .master(\"local\") \\\n",
    "    .appName(\"Test App\") \\\n",
    "    .getOrCreate()\n",
    "\n",
    "sc = spark.sparkContext\n",
    "sc"
   ]
  },
  {
   "cell_type": "code",
   "execution_count": null,
   "id": "f714b454",
   "metadata": {
    "collapsed": false,
    "jupyter": {
     "outputs_hidden": false
    },
    "pycharm": {
     "name": "#%%\n"
    }
   },
   "outputs": [],
   "source": [
    "sc.getConf().getAll()"
   ]
  },
  {
   "cell_type": "code",
   "execution_count": null,
   "id": "aa32e38c",
   "metadata": {
    "collapsed": false,
    "jupyter": {
     "outputs_hidden": false
    },
    "pycharm": {
     "name": "#%%\n"
    }
   },
   "outputs": [],
   "source": [
    "spark.read.csv('s3a://affinipay-analytics-data-lake-raw/vimas/merchant_address/vimas_merchant_address_20200825_003122.csv.gz', header=True).show(5, False)"
   ]
  },
  {
   "cell_type": "code",
   "execution_count": null,
   "id": "86bbd9b4",
   "metadata": {
    "collapsed": false,
    "jupyter": {
     "outputs_hidden": false
    },
    "pycharm": {
     "name": "#%%\n"
    }
   },
   "outputs": [],
   "source": [
    "spark.read.format(\"delta\") \\\n",
    "    .load(\"s3a://affinipay-analytics-data-lake-raw/rds/virtual_terminal/delta/accounts/\") \\\n",
    "    .show(5, False)"
   ]
  },
  {
   "cell_type": "markdown",
   "id": "57258a71-d1d1-4b46-aec0-5d87d782efb6",
   "metadata": {},
   "source": [
    "### sparkmagic?"
   ]
  },
  {
   "cell_type": "code",
   "execution_count": null,
   "id": "438f67d5-209f-4321-966c-b60acddf94bd",
   "metadata": {},
   "outputs": [],
   "source": [
    "%load_ext sparkmagic.magics"
   ]
  },
  {
   "cell_type": "code",
   "execution_count": null,
   "id": "1efc0daa-9174-4b08-82ee-3a969a699605",
   "metadata": {},
   "outputs": [],
   "source": [
    "%manage_spark"
   ]
  },
  {
   "cell_type": "code",
   "execution_count": null,
   "id": "ec57aee5-3717-416f-b092-6a36822982d9",
   "metadata": {},
   "outputs": [],
   "source": [
    "%spark?"
   ]
  }
 ],
 "metadata": {
  "kernelspec": {
   "display_name": "Python 3",
   "language": "python",
   "name": "python3"
  },
  "language_info": {
   "codemirror_mode": {
    "name": "ipython",
    "version": 3
   },
   "file_extension": ".py",
   "mimetype": "text/x-python",
   "name": "python",
   "nbconvert_exporter": "python",
   "pygments_lexer": "ipython3",
   "version": "3.9.2"
  }
 },
 "nbformat": 4,
 "nbformat_minor": 5
}
