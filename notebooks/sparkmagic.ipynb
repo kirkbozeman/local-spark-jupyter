{
 "cells": [
  {
   "cell_type": "code",
   "execution_count": 4,
   "id": "9f336608-2ecc-4df3-9c1e-51a07ca72a2b",
   "metadata": {},
   "outputs": [
    {
     "name": "stderr",
     "output_type": "stream",
     "text": [
      "UsageError: Cell magic `%%help` not found.\n"
     ]
    }
   ],
   "source": [
    "%%help"
   ]
  },
  {
   "cell_type": "code",
   "execution_count": 3,
   "id": "9f64f4b2-3abb-481c-8735-7bfdf33cecf1",
   "metadata": {},
   "outputs": [],
   "source": [
    "import sparkmagic"
   ]
  },
  {
   "cell_type": "code",
   "execution_count": 6,
   "id": "f38eded3-8268-4c5c-8779-45c7c8792e08",
   "metadata": {},
   "outputs": [
    {
     "name": "stderr",
     "output_type": "stream",
     "text": [
      "UsageError: Line magic function `%help` not found.\n"
     ]
    }
   ],
   "source": [
    "%help"
   ]
  }
 ],
 "metadata": {
  "kernelspec": {
   "display_name": "Python 3",
   "language": "python",
   "name": "python3"
  },
  "language_info": {
   "codemirror_mode": {
    "name": "ipython",
    "version": 3
   },
   "file_extension": ".py",
   "mimetype": "text/x-python",
   "name": "python",
   "nbconvert_exporter": "python",
   "pygments_lexer": "ipython3",
   "version": "3.9.10"
  }
 },
 "nbformat": 4,
 "nbformat_minor": 5
}
